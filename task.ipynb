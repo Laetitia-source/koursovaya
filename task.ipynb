{
 "cells": [
  {
   "cell_type": "markdown",
   "metadata": {},
   "source": [
    "# Задача:\n",
    "## Составить расписание маршруток\n",
    "### Входные данные:\n",
    "1.\tКоличество маршруток (автопарк) – их количество вы задаете сами\n",
    "2.\tМаршрут, который состоит из остановок. Одна маршрутка проезжает весь путь за 1 час +- 10 мин\n",
    "3.\tЧас пик присутствует только в будние дни (с понедельник по пятницу) и идет с 7:00 по 9:00 и с 17:00 по 19:00. В час пик приходит 70% потока пассажиров. В субботу и воскресения поток пассажиров равномерно и отсутствует час пик.\n",
    "4.\tПоток пассажиров – можете задать сами, но изначально 1000 человек\n",
    "5.\tРабочее время маршруток с 6:00 утра по 3:00 утра\n",
    "6.\tЛюбые другие данные, которые вы захотите для усложнения программы\n",
    "7.\tДва типа рабочих:\n",
    "    1.\tОбычная смена\n",
    "\n",
    "        a.\t8-часовая рабочая смена + 1 час на обед\n",
    "\n",
    "        b.\tВ час пик обед запрещен\n",
    "\n",
    "        c.\tОбед только по завершению маршрута\n",
    "        \n",
    "    2.\tБольшая смена\n",
    "        a.\tГрафик 1 рабочий день/2 дня отдыха\n",
    "\n",
    "        b.\t12-часовая рабочая смена + перерывы\n",
    "\n",
    "        c.\tКаждые 2 часа (минимум) перерыв 15-20 минут\n",
    "        \n",
    "        d.\tДолжен быть один перерыв длинной в 40 минут\n"
   ]
  },
  {
   "cell_type": "code",
   "execution_count": 30,
   "metadata": {},
   "outputs": [],
   "source": [
    "import matplotlib.pyplot as plt \n",
    "import random  \n",
    "import numpy as np  "
   ]
  },
  {
   "cell_type": "code",
   "execution_count": 46,
   "metadata": {},
   "outputs": [
    {
     "name": "stdout",
     "output_type": "stream",
     "text": [
      "Введите начальные данные для симуляции:\n"
     ]
    }
   ],
   "source": [
    "def ввести_данные():\n",
    "    print(\"Введите начальные данные для симуляции:\")\n",
    "    \n",
    "    while True:  # Используем цикл для повторного ввода при ошибке\n",
    "        try:\n",
    "            автобусы = int(input(\"Количество маршруток (начальное): \"))\n",
    "            максимальные_автобусы = int(input(\"Максимальное количество маршруток: \"))\n",
    "            водители = int(input(\"Количество водителей (начальное): \"))\n",
    "            максимальные_водители = int(input(\"Максимальное количество водителей: \"))\n",
    "            поток_пассажиров = int(input(\"Общее количество пассажиров (по умолчанию 1000): \"))\n",
    "            # Если все данные введены правильно, выходим из цикла\n",
    "            break\n",
    "        except ValueError:\n",
    "            print(\"Ошибка: введите числовые значения. Повторите ввод.\\n\")\n",
    "    \n",
    "    return автобусы, максимальные_автобусы, водители, максимальные_водители, поток_пассажиров\n",
    "\n",
    "# Получаем данные от пользователя\n",
    "автобусы, максимальные_автобусы, водители, максимальные_водители, поток_пассажиров = ввести_данные()\n",
    "\n",
    "# Маршруты генерируются случайно\n",
    "маршруты = [\n",
    "    {\"тип\": \"цикличный\", \"длительность\": random.randint(50, 70), \"часы_пик\": True},\n",
    "    {\"тип\": \"конечный\", \"длительность\": random.randint(50, 70), \"часы_пик\": False},\n",
    "    {\"тип\": \"цикличный\", \"длительность\": random.randint(50, 70), \"часы_пик\": True},\n",
    "    {\"тип\": \"конечный\", \"длительность\": random.randint(50, 70), \"часы_пик\": False},\n",
    "    {\"тип\": \"цикличный\", \"длительность\": random.randint(50, 70), \"часы_пик\": True},\n",
    "]\n",
    "\n",
    "# Часы работы маршруток\n",
    "часы_работы = (6, 3)  # С 6:00 до 3:00 следующего дня\n"
   ]
  },
  {
   "cell_type": "code",
   "execution_count": 47,
   "metadata": {},
   "outputs": [],
   "source": [
    "def проверить_ресурсы(автобусы, водители, маршруты):\n",
    "    нехватка_автобусов = max(0, len(маршруты) - автобусы)  # Недостающие маршрутки\n",
    "    нехватка_водителей = max(0, автобусы - водители)  # Недостающие водители\n",
    "    return нехватка_автобусов, нехватка_водителей\n"
   ]
  },
  {
   "cell_type": "code",
   "execution_count": 48,
   "metadata": {},
   "outputs": [],
   "source": [
    "def добавить_ресурсы(автобусы, водители, нехватка_автобусов, нехватка_водителей, макс_автобусы, макс_водители):\n",
    "    автобусы += min(нехватка_автобусов, макс_автобусы - автобусы)  # Добавляем недостающие маршрутки\n",
    "    водители += min(нехватка_водителей, макс_водители - водители)  # Добавляем недостающих водителей\n",
    "    return автобусы, водители\n"
   ]
  },
  {
   "cell_type": "code",
   "execution_count": 49,
   "metadata": {},
   "outputs": [],
   "source": [
    "def планировать_наивно(автобусы, маршруты, часы_работы):\n",
    "    расписание = []  # Список для хранения расписания\n",
    "    начало, конец = часы_работы  # Часы работы маршруток\n",
    "    часы = list(range(начало, 24)) + list(range(0, конец + 1))  # Генерация списка всех часов работы\n",
    "\n",
    "    занятость_автобусов = {i: 0 for i in range(автобусы)}  # Словарь для отслеживания занятости маршруток\n",
    "\n",
    "    # Проходим по каждому часу рабочего времени\n",
    "    for час in часы:\n",
    "        # Для каждого часа планируем маршруты\n",
    "        for маршрут in маршруты:\n",
    "            # Находим маршрутку с минимальной занятостью\n",
    "            автобус = min(занятость_автобусов, key=занятость_автобусов.get)\n",
    "\n",
    "            # Добавляем маршрут в расписание\n",
    "            расписание.append({\n",
    "                \"час\": час,\n",
    "                \"автобус\": автобус + 1,\n",
    "                \"маршрут\": маршрут[\"тип\"],\n",
    "                \"длительность\": маршрут[\"длительность\"]\n",
    "            })\n",
    "\n",
    "            # Обновляем занятость выбранной маршрутки\n",
    "            занятость_автобусов[автобус] += маршрут[\"длительность\"]\n",
    "\n",
    "    return расписание  # Возвращаем итоговое расписание\n"
   ]
  },
  {
   "cell_type": "code",
   "execution_count": 50,
   "metadata": {},
   "outputs": [],
   "source": [
    "def генетический_алгоритм(маршруты, автобусы, поколения=100):\n",
    "    def fitness(расписание):\n",
    "        активные_часы = len(set(запись[\"час\"] for запись in расписание))  # Оценка уникальных часов\n",
    "        return активные_часы\n",
    "\n",
    "    def crossover(parent1, parent2):\n",
    "        point = len(parent1) // 2  # Точка разделения для кроссовера\n",
    "        return parent1[:point] + parent2[point:]\n",
    "\n",
    "    def mutate(расписание):\n",
    "        if len(расписание) > 0:\n",
    "            idx = random.randint(0, len(расписание) - 1)\n",
    "            расписание[idx][\"длительность\"] = random.randint(50, 70)  # Случайное изменение маршрута\n",
    "\n",
    "    # Создаем начальную популяцию\n",
    "    population = [{\"расписание\": планировать_наивно(автобусы, маршруты, часы_работы)} for _ in range(10)]\n",
    "\n",
    "    for _ in range(поколения):  # Эволюция поколений\n",
    "        population = sorted(population, key=lambda x: fitness(x[\"расписание\"]), reverse=True)\n",
    "        new_population = []\n",
    "        for i in range(5):\n",
    "            new_population.append(population[i])\n",
    "            child = crossover(population[i][\"расписание\"], population[(i+1) % 5][\"расписание\"])\n",
    "            mutate(child)\n",
    "            new_population.append({\"расписание\": child})\n",
    "        population = new_population\n",
    "\n",
    "    return population[0][\"расписание\"]\n"
   ]
  },
  {
   "cell_type": "code",
   "execution_count": 52,
   "metadata": {},
   "outputs": [],
   "source": [
    "def визуализация(расписание, название):\n",
    "    часы = [запись[\"час\"] for запись in расписание]\n",
    "    plt.hist(часы, bins=24, color='skyblue', edgecolor='black')\n",
    "    plt.title(f\"Активность маршруток ({название})\")\n",
    "    plt.xlabel(\"Часы\")\n",
    "    plt.ylabel(\"Количество маршруток\")\n",
    "    plt.show()\n"
   ]
  },
  {
   "cell_type": "code",
   "execution_count": 53,
   "metadata": {},
   "outputs": [
    {
     "name": "stdout",
     "output_type": "stream",
     "text": [
      "Сравнение алгоритмов:\n",
      "Наивный алгоритм: Количество маршрутов = 110\n",
      "Генетический алгоритм: Количество маршрутов = 110\n"
     ]
    },
    {
     "data": {
      "image/png": "[encoded data removed]",
      "text/plain": [
       "<Figure size 640x480 with 1 Axes>"
      ]
     },
     "metadata": {},
     "output_type": "display_data"
    },
    {
     "data": {
      "image/png": "[encoded data removed]",
      "text/plain": [
       "<Figure size 640x480 with 1 Axes>"
      ]
     },
     "metadata": {},
     "output_type": "display_data"
    }
   ],
   "source": [
    "# Проверяем ресурсы\n",
    "нехватка_автобусов, нехватка_водителей = проверить_ресурсы(автобусы, водители, маршруты)\n",
    "автобусы, водители = добавить_ресурсы(автобусы, водители, нехватка_автобусов, нехватка_водителей, максимальные_автобусы, максимальные_водители)\n",
    "\n",
    "# Выполняем оба алгоритма\n",
    "расписание_наивное = планировать_наивно(автобусы, маршруты, часы_работы)\n",
    "расписание_генетическое = генетический_алгоритм(маршруты, автобусы)\n",
    "\n",
    "# Выводим результаты\n",
    "print(\"Сравнение алгоритмов:\")\n",
    "print(f\"Наивный алгоритм: Количество маршрутов = {len(расписание_наивное)}\")\n",
    "print(f\"Генетический алгоритм: Количество маршрутов = {len(расписание_генетическое)}\")\n",
    "\n",
    "# Визуализация\n",
    "визуализация(расписание_наивное, \"Наивный алгоритм\")\n",
    "визуализация(расписание_генетическое, \"Генетический алгоритм\")\n"
   ]
  },
  {
   "cell_type": "markdown",
   "metadata": {},
   "source": [
    "# Заключение\n",
    "Генетический алгоритм показал лучшие результаты в оптимизации ресурсов, тогда как наивный алгоритм предлагает быстрое, но менее эффективное решение; улучшения могут включать использование реальных данных и настройку параметров."
   ]
  }
 ],
 "metadata": {
  "kernelspec": {
   "display_name": "Python 3",
   "language": "python",
   "name": "python3"
  },
  "language_info": {
   "codemirror_mode": {
    "name": "ipython",
    "version": 3
   },
   "file_extension": ".py",
   "mimetype": "text/x-python",
   "name": "python",
   "nbconvert_exporter": "python",
   "pygments_lexer": "ipython3",
   "version": "3.12.6"
  }
 },
 "nbformat": 4,
 "nbformat_minor": 2
}
